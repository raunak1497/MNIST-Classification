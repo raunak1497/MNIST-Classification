{
 "cells": [
  {
   "cell_type": "code",
   "execution_count": 15,
   "id": "b90cb093-94de-481e-b57a-a7c1fce11a3a",
   "metadata": {},
   "outputs": [],
   "source": [
    "import torch\n",
    "import torch.nn as nn\n",
    "import torch.nn.functional as F\n",
    "from torch.utils.data import DataLoader\n",
    "from torchvision import transforms\n",
    "import torchvision.datasets as datasets\n",
    "from torchvision.utils import make_grid\n",
    "import numpy as np\n",
    "import matplotlib.pyplot as plt\n",
    "%matplotlib inline\n",
    "import pandas as pd\n",
    "from sklearn.metrics import confusion_matrix"
   ]
  },
  {
   "cell_type": "code",
   "execution_count": 16,
   "id": "1acc7a61-cf4b-4afd-8aae-e8721b66c4fc",
   "metadata": {},
   "outputs": [],
   "source": [
    "#Convert MNIST image files into tensors of 4 dimension (#of images,height,width, colour channel)\n",
    "transform = transforms.ToTensor()"
   ]
  },
  {
   "cell_type": "code",
   "execution_count": 21,
   "id": "8853ea72-b979-41df-b6fa-cb4215df9ae7",
   "metadata": {},
   "outputs": [],
   "source": [
    "#train our data\n",
    "# train_data = datasets.MNIST(root='/cnn_data',train = True,download = True, transform = transform)\n",
    "train_data = datasets.MNIST(root='./data', train=True, download=True, transform=None)"
   ]
  },
  {
   "cell_type": "code",
   "execution_count": null,
   "id": "b3856d9a-5505-4e2d-8e1a-9c959c8d6c4e",
   "metadata": {},
   "outputs": [],
   "source": [
    "#test data\n",
    "test_data = datasets.MNIST(root='./data', train=False, download=True, transform=None)"
   ]
  }
 ],
 "metadata": {
  "kernelspec": {
   "display_name": "Python 3 (ipykernel)",
   "language": "python",
   "name": "python3"
  },
  "language_info": {
   "codemirror_mode": {
    "name": "ipython",
    "version": 3
   },
   "file_extension": ".py",
   "mimetype": "text/x-python",
   "name": "python",
   "nbconvert_exporter": "python",
   "pygments_lexer": "ipython3",
   "version": "3.10.14"
  }
 },
 "nbformat": 4,
 "nbformat_minor": 5
}
