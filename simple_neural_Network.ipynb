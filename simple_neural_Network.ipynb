{
 "cells": [
  {
   "cell_type": "code",
   "execution_count": 1,
   "id": "82c6e7e2-874b-4a26-8846-6ff3566ddbd9",
   "metadata": {},
   "outputs": [],
   "source": [
    "import torch\n",
    "import torch.nn as nn\n",
    "import torch.nn.functional as F\n",
    "import numpy as np\n",
    "import matplotlib.pyplot as plt\n",
    "%matplotlib inline\n",
    "import pandas as pd\n",
    "from sklearn.model_selection import train_test_split"
   ]
  },
  {
   "cell_type": "code",
   "execution_count": 2,
   "id": "788c6463-316a-4899-bdad-b507f6afa109",
   "metadata": {},
   "outputs": [],
   "source": [
    "#create a model class that inherits the NN module\n",
    "class Model(nn.Module):\n",
    "    #Input layer  (4 features of the flower) ---> hidden layer 1 (neurons)  ----> h2(neurons) ---> output\n",
    "    def __init__(self,in_features=4,h1=8,h2=9,out_features=3):\n",
    "        super().__init__() #instantinate our nn.module\n",
    "        self.fc1 = nn.Linear(in_features,h1)\n",
    "        self.fc2 = nn.Linear(h1,h2)\n",
    "        self.out = nn.Linear(h2,out_features)\n",
    "        \n",
    "    def forward(self,x):\n",
    "        x = F.relu(self.fc1(x))\n",
    "        x = F.relu(self.fc2(x))\n",
    "        x = self.out(x)\n",
    "\n",
    "        return x"
   ]
  },
  {
   "cell_type": "code",
   "execution_count": 3,
   "id": "94d43a8e-6cbe-4b3e-ad9e-f6f213df5cbb",
   "metadata": {},
   "outputs": [],
   "source": [
    "#pick a manual seed for randomization\n",
    "torch.manual_seed(32)\n",
    "\n",
    "#create an instance of model\n",
    "model =  Model()"
   ]
  },
  {
   "cell_type": "code",
   "execution_count": 4,
   "id": "c8ff4410-86cf-450a-822d-5f4a5a388c7e",
   "metadata": {},
   "outputs": [
    {
     "data": {
      "text/html": [
       "<div>\n",
       "<style scoped>\n",
       "    .dataframe tbody tr th:only-of-type {\n",
       "        vertical-align: middle;\n",
       "    }\n",
       "\n",
       "    .dataframe tbody tr th {\n",
       "        vertical-align: top;\n",
       "    }\n",
       "\n",
       "    .dataframe thead th {\n",
       "        text-align: right;\n",
       "    }\n",
       "</style>\n",
       "<table border=\"1\" class=\"dataframe\">\n",
       "  <thead>\n",
       "    <tr style=\"text-align: right;\">\n",
       "      <th></th>\n",
       "      <th>sepal.length</th>\n",
       "      <th>sepal.width</th>\n",
       "      <th>petal.length</th>\n",
       "      <th>petal.width</th>\n",
       "      <th>variety</th>\n",
       "    </tr>\n",
       "  </thead>\n",
       "  <tbody>\n",
       "    <tr>\n",
       "      <th>145</th>\n",
       "      <td>6.7</td>\n",
       "      <td>3.0</td>\n",
       "      <td>5.2</td>\n",
       "      <td>2.3</td>\n",
       "      <td>Virginica</td>\n",
       "    </tr>\n",
       "    <tr>\n",
       "      <th>146</th>\n",
       "      <td>6.3</td>\n",
       "      <td>2.5</td>\n",
       "      <td>5.0</td>\n",
       "      <td>1.9</td>\n",
       "      <td>Virginica</td>\n",
       "    </tr>\n",
       "    <tr>\n",
       "      <th>147</th>\n",
       "      <td>6.5</td>\n",
       "      <td>3.0</td>\n",
       "      <td>5.2</td>\n",
       "      <td>2.0</td>\n",
       "      <td>Virginica</td>\n",
       "    </tr>\n",
       "    <tr>\n",
       "      <th>148</th>\n",
       "      <td>6.2</td>\n",
       "      <td>3.4</td>\n",
       "      <td>5.4</td>\n",
       "      <td>2.3</td>\n",
       "      <td>Virginica</td>\n",
       "    </tr>\n",
       "    <tr>\n",
       "      <th>149</th>\n",
       "      <td>5.9</td>\n",
       "      <td>3.0</td>\n",
       "      <td>5.1</td>\n",
       "      <td>1.8</td>\n",
       "      <td>Virginica</td>\n",
       "    </tr>\n",
       "  </tbody>\n",
       "</table>\n",
       "</div>"
      ],
      "text/plain": [
       "     sepal.length  sepal.width  petal.length  petal.width    variety\n",
       "145           6.7          3.0           5.2          2.3  Virginica\n",
       "146           6.3          2.5           5.0          1.9  Virginica\n",
       "147           6.5          3.0           5.2          2.0  Virginica\n",
       "148           6.2          3.4           5.4          2.3  Virginica\n",
       "149           5.9          3.0           5.1          1.8  Virginica"
      ]
     },
     "execution_count": 4,
     "metadata": {},
     "output_type": "execute_result"
    }
   ],
   "source": [
    "url = 'https://gist.githubusercontent.com/netj/8836201/raw/6f9306ad21398ea43cba4f7d537619d0e07d5ae3/iris.csv'\n",
    "df = pd.read_csv(url)\n",
    "df.tail()"
   ]
  },
  {
   "cell_type": "code",
   "execution_count": 5,
   "id": "d1dc6130-69c7-40df-a678-aa95e91a3baf",
   "metadata": {},
   "outputs": [
    {
     "name": "stderr",
     "output_type": "stream",
     "text": [
      "/var/folders/yk/dxnr7pzs6v1c6xh8xr6nb5xc0000gn/T/ipykernel_54139/2419832340.py:4: FutureWarning: Downcasting behavior in `replace` is deprecated and will be removed in a future version. To retain the old behavior, explicitly call `result.infer_objects(copy=False)`. To opt-in to the future behavior, set `pd.set_option('future.no_silent_downcasting', True)`\n",
      "  df['variety'] = df['variety'].replace('Virginica', 2)\n"
     ]
    },
    {
     "data": {
      "text/html": [
       "<div>\n",
       "<style scoped>\n",
       "    .dataframe tbody tr th:only-of-type {\n",
       "        vertical-align: middle;\n",
       "    }\n",
       "\n",
       "    .dataframe tbody tr th {\n",
       "        vertical-align: top;\n",
       "    }\n",
       "\n",
       "    .dataframe thead th {\n",
       "        text-align: right;\n",
       "    }\n",
       "</style>\n",
       "<table border=\"1\" class=\"dataframe\">\n",
       "  <thead>\n",
       "    <tr style=\"text-align: right;\">\n",
       "      <th></th>\n",
       "      <th>sepal.length</th>\n",
       "      <th>sepal.width</th>\n",
       "      <th>petal.length</th>\n",
       "      <th>petal.width</th>\n",
       "      <th>variety</th>\n",
       "    </tr>\n",
       "  </thead>\n",
       "  <tbody>\n",
       "    <tr>\n",
       "      <th>0</th>\n",
       "      <td>5.1</td>\n",
       "      <td>3.5</td>\n",
       "      <td>1.4</td>\n",
       "      <td>0.2</td>\n",
       "      <td>0</td>\n",
       "    </tr>\n",
       "    <tr>\n",
       "      <th>1</th>\n",
       "      <td>4.9</td>\n",
       "      <td>3.0</td>\n",
       "      <td>1.4</td>\n",
       "      <td>0.2</td>\n",
       "      <td>0</td>\n",
       "    </tr>\n",
       "    <tr>\n",
       "      <th>2</th>\n",
       "      <td>4.7</td>\n",
       "      <td>3.2</td>\n",
       "      <td>1.3</td>\n",
       "      <td>0.2</td>\n",
       "      <td>0</td>\n",
       "    </tr>\n",
       "    <tr>\n",
       "      <th>3</th>\n",
       "      <td>4.6</td>\n",
       "      <td>3.1</td>\n",
       "      <td>1.5</td>\n",
       "      <td>0.2</td>\n",
       "      <td>0</td>\n",
       "    </tr>\n",
       "    <tr>\n",
       "      <th>4</th>\n",
       "      <td>5.0</td>\n",
       "      <td>3.6</td>\n",
       "      <td>1.4</td>\n",
       "      <td>0.2</td>\n",
       "      <td>0</td>\n",
       "    </tr>\n",
       "    <tr>\n",
       "      <th>...</th>\n",
       "      <td>...</td>\n",
       "      <td>...</td>\n",
       "      <td>...</td>\n",
       "      <td>...</td>\n",
       "      <td>...</td>\n",
       "    </tr>\n",
       "    <tr>\n",
       "      <th>145</th>\n",
       "      <td>6.7</td>\n",
       "      <td>3.0</td>\n",
       "      <td>5.2</td>\n",
       "      <td>2.3</td>\n",
       "      <td>2</td>\n",
       "    </tr>\n",
       "    <tr>\n",
       "      <th>146</th>\n",
       "      <td>6.3</td>\n",
       "      <td>2.5</td>\n",
       "      <td>5.0</td>\n",
       "      <td>1.9</td>\n",
       "      <td>2</td>\n",
       "    </tr>\n",
       "    <tr>\n",
       "      <th>147</th>\n",
       "      <td>6.5</td>\n",
       "      <td>3.0</td>\n",
       "      <td>5.2</td>\n",
       "      <td>2.0</td>\n",
       "      <td>2</td>\n",
       "    </tr>\n",
       "    <tr>\n",
       "      <th>148</th>\n",
       "      <td>6.2</td>\n",
       "      <td>3.4</td>\n",
       "      <td>5.4</td>\n",
       "      <td>2.3</td>\n",
       "      <td>2</td>\n",
       "    </tr>\n",
       "    <tr>\n",
       "      <th>149</th>\n",
       "      <td>5.9</td>\n",
       "      <td>3.0</td>\n",
       "      <td>5.1</td>\n",
       "      <td>1.8</td>\n",
       "      <td>2</td>\n",
       "    </tr>\n",
       "  </tbody>\n",
       "</table>\n",
       "<p>150 rows × 5 columns</p>\n",
       "</div>"
      ],
      "text/plain": [
       "     sepal.length  sepal.width  petal.length  petal.width  variety\n",
       "0             5.1          3.5           1.4          0.2        0\n",
       "1             4.9          3.0           1.4          0.2        0\n",
       "2             4.7          3.2           1.3          0.2        0\n",
       "3             4.6          3.1           1.5          0.2        0\n",
       "4             5.0          3.6           1.4          0.2        0\n",
       "..            ...          ...           ...          ...      ...\n",
       "145           6.7          3.0           5.2          2.3        2\n",
       "146           6.3          2.5           5.0          1.9        2\n",
       "147           6.5          3.0           5.2          2.0        2\n",
       "148           6.2          3.4           5.4          2.3        2\n",
       "149           5.9          3.0           5.1          1.8        2\n",
       "\n",
       "[150 rows x 5 columns]"
      ]
     },
     "execution_count": 5,
     "metadata": {},
     "output_type": "execute_result"
    }
   ],
   "source": [
    "#change from string to integers\n",
    "df['variety'] = df['variety'].replace('Setosa', 0)\n",
    "df['variety'] = df['variety'].replace('Versicolor', 1)\n",
    "df['variety'] = df['variety'].replace('Virginica', 2)\n",
    "df"
   ]
  },
  {
   "cell_type": "code",
   "execution_count": 6,
   "id": "7cc76678-06ed-4e67-9c27-3a0ba43890a7",
   "metadata": {},
   "outputs": [],
   "source": [
    "#Train test and split X\n",
    "X = df.drop('variety',axis=1)\n",
    "y = df['variety'] "
   ]
  },
  {
   "cell_type": "code",
   "execution_count": 7,
   "id": "6a6e5358-fb1c-4385-aab4-d9ab48423ec6",
   "metadata": {},
   "outputs": [],
   "source": [
    "#convert to numpy array\n",
    "X = np.array(X)\n",
    "y = np.array(y)"
   ]
  },
  {
   "cell_type": "code",
   "execution_count": 8,
   "id": "c9cd77ff-0f0a-46d4-8cb6-0c1168228ea3",
   "metadata": {},
   "outputs": [],
   "source": [
    "#train test split\n",
    "X_train, X_test, y_train, y_test = train_test_split(X,y,test_size = 0.2, random_state=41 ) "
   ]
  },
  {
   "cell_type": "code",
   "execution_count": 9,
   "id": "bd346a30-88f7-4963-9a91-23c916262ac8",
   "metadata": {},
   "outputs": [],
   "source": [
    "#convert to float tensors\n",
    "X_train = torch.FloatTensor(X_train)\n",
    "X_test = torch.FloatTensor(X_test)"
   ]
  },
  {
   "cell_type": "code",
   "execution_count": 10,
   "id": "a6aed663-435f-41c7-9667-41670382ae70",
   "metadata": {},
   "outputs": [],
   "source": [
    "#convert to long tensors\n",
    "y_train = torch.tensor(y_train,dtype=torch.long)\n",
    "y_test = torch.tensor(y_test,dtype=torch.long)"
   ]
  },
  {
   "cell_type": "code",
   "execution_count": 11,
   "id": "7d2032f5-afb9-449e-bde8-f3c15d737a7c",
   "metadata": {},
   "outputs": [],
   "source": [
    "#set the criterion of model to measure the error\n",
    "criterion = nn.CrossEntropyLoss()\n",
    "\n",
    "#choose Adam optimizer and lr = learning rate\n",
    "optimizer = torch.optim.Adam(model.parameters(), lr = 0.01)"
   ]
  },
  {
   "cell_type": "code",
   "execution_count": 12,
   "id": "7e6c47ea-b980-424a-9ac2-bb56a67a644d",
   "metadata": {},
   "outputs": [
    {
     "name": "stdout",
     "output_type": "stream",
     "text": [
      "Epoch: 0 and loss: 1.1642626523971558\n",
      "Epoch: 10 and loss: 0.9502732157707214\n",
      "Epoch: 20 and loss: 0.7863701581954956\n",
      "Epoch: 30 and loss: 0.6350342631340027\n",
      "Epoch: 40 and loss: 0.4286562204360962\n",
      "Epoch: 50 and loss: 0.2817978858947754\n",
      "Epoch: 60 and loss: 0.1705012172460556\n",
      "Epoch: 70 and loss: 0.10465352982282639\n",
      "Epoch: 80 and loss: 0.07380601763725281\n",
      "Epoch: 90 and loss: 0.0584549717605114\n"
     ]
    }
   ],
   "source": [
    "model.parameters\n",
    "#Train our models\n",
    "#Epochs we want?\n",
    "epochs = 100\n",
    "losses = []\n",
    "for i in range(epochs):\n",
    "    #go forward and get a prediction\n",
    "    y_pred = model.forward(X_train)\n",
    "\n",
    "\n",
    "    #measure the loss/error \n",
    "    loss = criterion(y_pred,y_train)\n",
    "\n",
    "    #keep track of our losses\n",
    "    losses.append(loss.detach().numpy())\n",
    "\n",
    "    #print every 10 epochs\n",
    "    if i % 10 ==0:\n",
    "        print(f'Epoch: {i} and loss: {loss}')\n",
    "\n",
    "    #back propogation\n",
    "    optimizer.zero_grad()\n",
    "    loss.backward()\n",
    "    optimizer.step()"
   ]
  },
  {
   "cell_type": "code",
   "execution_count": 13,
   "id": "0778d58b-3b93-4832-b879-6647523f7559",
   "metadata": {},
   "outputs": [
    {
     "data": {
      "text/plain": [
       "Text(0.5, 0, 'Epochs')"
      ]
     },
     "execution_count": 13,
     "metadata": {},
     "output_type": "execute_result"
    },
    {
     "data": {
      "image/png": "[encoded data removed]",
      "text/plain": [
       "<Figure size 640x480 with 1 Axes>"
      ]
     },
     "metadata": {},
     "output_type": "display_data"
    }
   ],
   "source": [
    "#graph the loss\n",
    "plt.plot(range(epochs), losses)\n",
    "plt.ylabel(\"Loss/Error\")\n",
    "plt.xlabel(\"Epochs\")"
   ]
  },
  {
   "cell_type": "code",
   "execution_count": 14,
   "id": "35153743-1df0-46f3-b644-e29abfe5de4e",
   "metadata": {},
   "outputs": [],
   "source": [
    "#Evaluate model on test data (validate model on test)\n",
    "with torch.no_grad(): #Basically turns off back propogation\n",
    "    y_eval = model.forward(X_test) #X_test are features from test set and y_val will be our evaluation\n",
    "    loss = criterion(y_eval,y_test)"
   ]
  },
  {
   "cell_type": "code",
   "execution_count": 15,
   "id": "78aba1f7-e921-4227-a543-b0907081f035",
   "metadata": {},
   "outputs": [
    {
     "data": {
      "text/plain": [
       "tensor(0.1240)"
      ]
     },
     "execution_count": 15,
     "metadata": {},
     "output_type": "execute_result"
    }
   ],
   "source": [
    "loss"
   ]
  },
  {
   "cell_type": "code",
   "execution_count": 16,
   "id": "a3fed43c-8f3a-4d2b-907b-f30c6fe54327",
   "metadata": {},
   "outputs": [
    {
     "name": "stdout",
     "output_type": "stream",
     "text": [
      "1.) tensor([-7.2039,  2.1721,  5.4994]) \t 2 \t 2\n",
      "2.) tensor([-9.1732,  1.3745,  7.8775]) \t 2 \t 2\n",
      "3.) tensor([-10.1985,   1.7705,   8.6772]) \t 2 \t 2\n",
      "4.) tensor([-3.0827,  4.1812, -0.1920]) \t 1 \t 1\n",
      "5.) tensor([-8.3784,  2.0315,  6.6663]) \t 2 \t 2\n",
      "6.) tensor([-1.5283,  4.3402, -1.9532]) \t 1 \t 1\n",
      "7.) tensor([-6.5455,  2.5353,  4.4948]) \t 2 \t 2\n",
      "8.) tensor([-2.5963,  4.2664, -0.8098]) \t 1 \t 1\n",
      "9.) tensor([-7.2847,  2.3287,  5.3471]) \t 2 \t 2\n",
      "10.) tensor([-9.6250,  1.4546,  8.2593]) \t 2 \t 2\n",
      "11.) tensor([-5.8126,  2.7934,  3.5324]) \t 2 \t 2\n",
      "12.) tensor([  7.1656,   1.4196, -11.7688]) \t 0 \t 0\n",
      "13.) tensor([  6.4275,   1.2548, -10.5445]) \t 0 \t 0\n",
      "14.) tensor([-0.5550,  3.7271, -2.5152]) \t 1 \t 1\n",
      "15.) tensor([  6.1486,   1.6963, -10.5360]) \t 0 \t 0\n",
      "16.) tensor([-5.4478,  3.2660,  2.8794]) \t 2 \t 1\n",
      "17.) tensor([  6.4697,   1.4848, -10.8310]) \t 0 \t 0\n",
      "18.) tensor([-6.4601,  2.5550,  4.4103]) \t 1 \t 2\n",
      "19.) tensor([  7.6222,   1.2384, -12.2484]) \t 0 \t 0\n",
      "20.) tensor([ 5.2052,  1.5668, -9.0110]) \t 0 \t 0\n",
      "21.) tensor([-0.9924,  4.0699, -2.2869]) \t 1 \t 1\n",
      "22.) tensor([-9.2070,  1.6841,  7.7179]) \t 2 \t 2\n",
      "23.) tensor([  6.3445,   1.5589, -10.7234]) \t 0 \t 0\n",
      "24.) tensor([  6.8775,   1.2704, -11.2076]) \t 0 \t 0\n",
      "25.) tensor([-0.5377,  4.0045, -2.8313]) \t 1 \t 1\n",
      "26.) tensor([-1.9876,  4.3706, -1.3678]) \t 1 \t 1\n",
      "27.) tensor([-3.2339,  4.1918, -0.0930]) \t 1 \t 1\n",
      "28.) tensor([-1.0260,  4.3343, -2.4755]) \t 1 \t 1\n",
      "29.) tensor([  7.0817,   1.3666, -11.5960]) \t 0 \t 0\n",
      "30.) tensor([-3.6767,  3.9212,  0.6076]) \t 1 \t 1\n",
      "We got 28 correct out of 30\n"
     ]
    }
   ],
   "source": [
    "correct = 0\n",
    "with torch.no_grad():\n",
    "    for i,data in enumerate(X_test):\n",
    "        y_val = model.forward(data)\n",
    "\n",
    "        #will tell us what type does our network predicts\n",
    "        print(f'{i+1}.) {str(y_val)} \\t {y_test[i]} \\t {y_val.argmax().item()}')\n",
    "\n",
    "        #correct or not\n",
    "        if y_val.argmax().item() == y_test[i]:\n",
    "            correct+=1\n",
    "\n",
    "print(f'We got {correct} correct out of 30')"
   ]
  },
  {
   "cell_type": "code",
   "execution_count": 17,
   "id": "fa11a69a-6d8d-456f-a351-379e786b2be4",
   "metadata": {},
   "outputs": [],
   "source": [
    "#predict the class for a given dataset\n",
    "new_iris = torch.tensor([4.7,3.2,1.3,0.2])"
   ]
  },
  {
   "cell_type": "code",
   "execution_count": 18,
   "id": "31f1385e-5d87-4c22-a4ab-232a2070f109",
   "metadata": {},
   "outputs": [
    {
     "name": "stdout",
     "output_type": "stream",
     "text": [
      "tensor([  6.8775,   1.2704, -11.2076])\n"
     ]
    }
   ],
   "source": [
    "with torch.no_grad():\n",
    "    print(model(new_iris))"
   ]
  },
  {
   "cell_type": "code",
   "execution_count": 19,
   "id": "1c33f244-fce8-44a7-abf6-18dfbd72d19f",
   "metadata": {},
   "outputs": [],
   "source": [
    "#save or NN model\n",
    "torch.save(model.state_dict(), 'my_first_NN_model.pt')"
   ]
  },
  {
   "cell_type": "code",
   "execution_count": 20,
   "id": "7587ddb5-cff7-4763-90f0-09e6e19484ab",
   "metadata": {},
   "outputs": [
    {
     "data": {
      "text/plain": [
       "<All keys matched successfully>"
      ]
     },
     "execution_count": 20,
     "metadata": {},
     "output_type": "execute_result"
    }
   ],
   "source": [
    "#load the saved model\n",
    "new_model = Model()\n",
    "new_model.load_state_dict(torch.load('my_first_NN_model.pt'))"
   ]
  },
  {
   "cell_type": "code",
   "execution_count": 21,
   "id": "f4bd2b8c-e62a-49b4-b7a6-4cce66379a7e",
   "metadata": {},
   "outputs": [
    {
     "data": {
      "text/plain": [
       "<bound method Module.parameters of Model(\n",
       "  (fc1): Linear(in_features=4, out_features=8, bias=True)\n",
       "  (fc2): Linear(in_features=8, out_features=9, bias=True)\n",
       "  (out): Linear(in_features=9, out_features=3, bias=True)\n",
       ")>"
      ]
     },
     "execution_count": 21,
     "metadata": {},
     "output_type": "execute_result"
    }
   ],
   "source": [
    "#make sure it loaded correctly\n",
    "new_model.parameters"
   ]
  }
 ],
 "metadata": {
  "kernelspec": {
   "display_name": "Python 3 (ipykernel)",
   "language": "python",
   "name": "python3"
  },
  "language_info": {
   "codemirror_mode": {
    "name": "ipython",
    "version": 3
   },
   "file_extension": ".py",
   "mimetype": "text/x-python",
   "name": "python",
   "nbconvert_exporter": "python",
   "pygments_lexer": "ipython3",
   "version": "3.10.14"
  }
 },
 "nbformat": 4,
 "nbformat_minor": 5
}
