{
 "cells": [
  {
   "cell_type": "code",
   "execution_count": null,
   "id": "38c14356-e424-4d44-9b4c-f11f25a46814",
   "metadata": {},
   "outputs": [],
   "source": []
  }
 ],
 "metadata": {
  "kernelspec": {
   "display_name": "",
   "name": ""
  },
  "language_info": {
   "name": ""
  }
 },
 "nbformat": 4,
 "nbformat_minor": 5
}
