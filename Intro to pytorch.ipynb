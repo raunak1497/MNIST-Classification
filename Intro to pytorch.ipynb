{
 "cells": [
  {
   "cell_type": "code",
   "execution_count": 3,
   "id": "38c14356-e424-4d44-9b4c-f11f25a46814",
   "metadata": {},
   "outputs": [],
   "source": [
    "import torch\n",
    "import numpy as np"
   ]
  },
  {
   "cell_type": "code",
   "execution_count": 4,
   "id": "7ac506ac-5730-464b-817e-af93cc12840b",
   "metadata": {},
   "outputs": [],
   "source": [
    "my_list = [1,2,3,4,5]\n",
    "my_list\n",
    "np_arr = np.array(my_list)"
   ]
  },
  {
   "cell_type": "code",
   "execution_count": 5,
   "id": "7dd61e38-880e-4570-9be6-d2d6de3da4e2",
   "metadata": {},
   "outputs": [
    {
     "data": {
      "text/plain": [
       "torch.float32"
      ]
     },
     "execution_count": 5,
     "metadata": {},
     "output_type": "execute_result"
    }
   ],
   "source": [
    "tensor_2d = torch.randn(3,4)\n",
    "tensor_2d\n",
    "tensor_2d.dtype"
   ]
  },
  {
   "cell_type": "code",
   "execution_count": 6,
   "id": "eb375a07-9b21-4d20-84dd-15b284e4ed0e",
   "metadata": {},
   "outputs": [
    {
     "data": {
      "text/plain": [
       "tensor([[[0., 0., 0., 0.],\n",
       "         [0., 0., 0., 0.],\n",
       "         [0., 0., 0., 0.]],\n",
       "\n",
       "        [[0., 0., 0., 0.],\n",
       "         [0., 0., 0., 0.],\n",
       "         [0., 0., 0., 0.]]])"
      ]
     },
     "execution_count": 6,
     "metadata": {},
     "output_type": "execute_result"
    }
   ],
   "source": [
    "tensor_3d = torch.zeros(2,3,4)\n",
    "tensor_3d"
   ]
  },
  {
   "cell_type": "code",
   "execution_count": 7,
   "id": "56afa649-1485-4a87-b8a7-6b066930c00e",
   "metadata": {},
   "outputs": [
    {
     "data": {
      "text/plain": [
       "tensor([1, 2, 3, 4, 5])"
      ]
     },
     "execution_count": 7,
     "metadata": {},
     "output_type": "execute_result"
    }
   ],
   "source": [
    "#create tensor from np array\n",
    "my_tensor = torch.tensor(np_arr)\n",
    "my_tensor"
   ]
  },
  {
   "cell_type": "code",
   "execution_count": 8,
   "id": "03a72053-e6a9-46bc-9c30-31aaec8a9699",
   "metadata": {},
   "outputs": [
    {
     "data": {
      "text/plain": [
       "tensor([0, 1, 2, 3, 4, 5, 6, 7, 8, 9])"
      ]
     },
     "execution_count": 8,
     "metadata": {},
     "output_type": "execute_result"
    }
   ],
   "source": [
    "my_tensor = torch.arange(10)\n",
    "my_tensor "
   ]
  },
  {
   "cell_type": "code",
   "execution_count": 9,
   "id": "3e9aa858-3cf1-47ac-bbca-58e169f2a4f3",
   "metadata": {},
   "outputs": [
    {
     "data": {
      "text/plain": [
       "tensor([[0, 1, 2, 3, 4],\n",
       "        [5, 6, 7, 8, 9]])"
      ]
     },
     "execution_count": 9,
     "metadata": {},
     "output_type": "execute_result"
    }
   ],
   "source": [
    "#reshape and view\n",
    "my_tensor = my_tensor.reshape(2,5)\n",
    "my_tensor"
   ]
  },
  {
   "cell_type": "code",
   "execution_count": 15,
   "id": "62695bca-65ee-448d-9998-132f1c3e534b",
   "metadata": {},
   "outputs": [
    {
     "data": {
      "text/plain": [
       "tensor([[0, 1, 2, 3, 4],\n",
       "        [5, 6, 7, 8, 9]])"
      ]
     },
     "execution_count": 15,
     "metadata": {},
     "output_type": "execute_result"
    }
   ],
   "source": [
    "#reshape when we don't know number of items\n",
    "my_torch2 = torch.arange(10)\n",
    "my_torch2 = my_torch2.reshape(2,-1)\n",
    "my_torch2"
   ]
  },
  {
   "cell_type": "code",
   "execution_count": 17,
   "id": "905b75f9-196f-44e2-a6fe-b28a67876b1f",
   "metadata": {},
   "outputs": [
    {
     "data": {
      "text/plain": [
       "tensor([[ 0,  1,  2,  3,  4],\n",
       "        [ 5,  6,  7,  8,  9],\n",
       "        [10, 11, 12, 13, 14]])"
      ]
     },
     "execution_count": 17,
     "metadata": {},
     "output_type": "execute_result"
    }
   ],
   "source": [
    "my_torch3 = torch.arange(15)\n",
    "my_torch3 = my_torch3.view(3,5) \n",
    "my_torch3"
   ]
  },
  {
   "cell_type": "code",
   "execution_count": 21,
   "id": "3393f353-7f8a-4c0e-aaef-5247a8c48649",
   "metadata": {},
   "outputs": [
    {
     "name": "stdout",
     "output_type": "stream",
     "text": [
      "tensor([0, 1, 2, 3, 4, 5, 6, 7, 8, 9])\n"
     ]
    }
   ],
   "source": [
    "my_torch4 = torch.arange(10)\n",
    "print(my_torch4)\n",
    "my_torch5 = my_torch4.reshape(2,5)"
   ]
  },
  {
   "cell_type": "code",
   "execution_count": 24,
   "id": "3ddb3e01-6aaf-405e-b141-5a3962f2645e",
   "metadata": {},
   "outputs": [
    {
     "data": {
      "text/plain": [
       "tensor([   0, 4141,    2,    3,    4,    5,    6,    7,    8,    9])"
      ]
     },
     "execution_count": 24,
     "metadata": {},
     "output_type": "execute_result"
    }
   ],
   "source": [
    "my_torch4[1] = 4141\n",
    "my_torch4"
   ]
  },
  {
   "cell_type": "code",
   "execution_count": 26,
   "id": "3226bb0c-09fb-4aa6-8ec7-7962e8e0e5cb",
   "metadata": {},
   "outputs": [
    {
     "data": {
      "text/plain": [
       "tensor([[   0, 4141,    2,    3,    4],\n",
       "        [   5,    6,    7,    8,    9]])"
      ]
     },
     "execution_count": 26,
     "metadata": {},
     "output_type": "execute_result"
    }
   ],
   "source": [
    "my_torch5"
   ]
  },
  {
   "cell_type": "code",
   "execution_count": 31,
   "id": "2378b19f-eebc-4358-83c0-2fd90e3ec72a",
   "metadata": {},
   "outputs": [
    {
     "data": {
      "text/plain": [
       "tensor(7)"
      ]
     },
     "execution_count": 31,
     "metadata": {},
     "output_type": "execute_result"
    }
   ],
   "source": [
    "#Slices\n",
    "my_torch6 = torch.arange(10)\n",
    "\n",
    "#grab a specific item\n",
    "my_torch6[7] #grabbing the tensor 7 rather than number 7"
   ]
  },
  {
   "cell_type": "code",
   "execution_count": 34,
   "id": "9a9df753-be21-4db3-8082-66120560d2f0",
   "metadata": {},
   "outputs": [
    {
     "data": {
      "text/plain": [
       "tensor([[0, 1],\n",
       "        [2, 3],\n",
       "        [4, 5],\n",
       "        [6, 7],\n",
       "        [8, 9]])"
      ]
     },
     "execution_count": 34,
     "metadata": {},
     "output_type": "execute_result"
    }
   ],
   "source": [
    "#grab a slice \n",
    "my_torch7 = my_torch6.reshape(5,2)\n",
    "my_torch7"
   ]
  },
  {
   "cell_type": "code",
   "execution_count": 36,
   "id": "7be1c05b-66f1-45f0-8645-9ee971e83544",
   "metadata": {},
   "outputs": [
    {
     "data": {
      "text/plain": [
       "tensor([1, 3, 5, 7, 9])"
      ]
     },
     "execution_count": 36,
     "metadata": {},
     "output_type": "execute_result"
    }
   ],
   "source": [
    " my_torch7[:, 1]"
   ]
  },
  {
   "cell_type": "code",
   "execution_count": null,
   "id": "578fc497-6e71-4423-924d-b32c15c4baad",
   "metadata": {},
   "outputs": [],
   "source": [
    "#return column\n",
    "my_torch7[:"
   ]
  }
 ],
 "metadata": {
  "kernelspec": {
   "display_name": "Python 3 (ipykernel)",
   "language": "python",
   "name": "python3"
  },
  "language_info": {
   "codemirror_mode": {
    "name": "ipython",
    "version": 3
   },
   "file_extension": ".py",
   "mimetype": "text/x-python",
   "name": "python",
   "nbconvert_exporter": "python",
   "pygments_lexer": "ipython3",
   "version": "3.10.14"
  }
 },
 "nbformat": 4,
 "nbformat_minor": 5
}
