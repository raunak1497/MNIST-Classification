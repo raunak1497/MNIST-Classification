{
 "cells": [
  {
   "cell_type": "code",
   "execution_count": 2,
   "id": "ca2b139f-851d-4c8f-9294-e0a603cac4ca",
   "metadata": {},
   "outputs": [],
   "source": [
    "import torch\n",
    "import numpy as np"
   ]
  },
  {
   "cell_type": "code",
   "execution_count": 7,
   "id": "9ab928b5-2d91-4d3d-9560-b740bdd5a0e0",
   "metadata": {},
   "outputs": [],
   "source": [
    "tensor_a  = torch.tensor([1,2,3,4])\n",
    "tensor_b  = torch.tensor([5,6,7,8])"
   ]
  },
  {
   "cell_type": "code",
   "execution_count": 39,
   "id": "17a0e2ab-7920-4003-8496-d4cd78cefd06",
   "metadata": {},
   "outputs": [
    {
     "data": {
      "text/plain": [
       "tensor([11, 14, 17, 20])"
      ]
     },
     "execution_count": 39,
     "metadata": {},
     "output_type": "execute_result"
    }
   ],
   "source": [
    "#addition\n",
    "tensor_a+tensor_b\n",
    "\n",
    "tensor_a.add(tensor_b)\n",
    "# addition longhand\n",
    "torch.add(tensor_a,tensor_b)"
   ]
  },
  {
   "cell_type": "code",
   "execution_count": 18,
   "id": "8543ed14-05c6-41fa-b879-0a3949b84f68",
   "metadata": {},
   "outputs": [
    {
     "data": {
      "text/plain": [
       "tensor([-4, -4, -4, -4])"
      ]
     },
     "execution_count": 18,
     "metadata": {},
     "output_type": "execute_result"
    }
   ],
   "source": [
    "#substraction\n",
    "tensor_b-tensor_a\n",
    "\n",
    "#substraction shorthand\n",
    "torch.sub(tensor_a,tensor_b)"
   ]
  },
  {
   "cell_type": "code",
   "execution_count": 22,
   "id": "f7374ee3-5aa2-4974-9327-41ab65e2d6b3",
   "metadata": {},
   "outputs": [
    {
     "data": {
      "text/plain": [
       "tensor([ 5, 12, 21, 32])"
      ]
     },
     "execution_count": 22,
     "metadata": {},
     "output_type": "execute_result"
    }
   ],
   "source": [
    "#multiplication\n",
    "tensor_a*tensor_b\n",
    "\n",
    "# multiplication longhand\n",
    "torch.mul(tensor_a,tensor_b)"
   ]
  },
  {
   "cell_type": "code",
   "execution_count": 26,
   "id": "9a1600cf-635b-4ec8-9a3e-d73fa85d4601",
   "metadata": {},
   "outputs": [
    {
     "data": {
      "text/plain": [
       "tensor([5.0000, 3.0000, 2.3333, 2.0000])"
      ]
     },
     "execution_count": 26,
     "metadata": {},
     "output_type": "execute_result"
    }
   ],
   "source": [
    "#division\n",
    "tensor_b/tensor_a\n",
    "\n",
    "#division longhand\n",
    "torch.div(tensor_b,tensor_a)"
   ]
  },
  {
   "cell_type": "code",
   "execution_count": 31,
   "id": "bedada72-2432-4338-b0ba-b0b0c226ced4",
   "metadata": {},
   "outputs": [
    {
     "data": {
      "text/plain": [
       "tensor([0, 0, 1, 0])"
      ]
     },
     "execution_count": 31,
     "metadata": {},
     "output_type": "execute_result"
    }
   ],
   "source": [
    "#remainder modulus\n",
    "tensor_b % tensor_a\n",
    "\n",
    "torch.remainder(tensor_b,tensor_a)"
   ]
  },
  {
   "cell_type": "code",
   "execution_count": 44,
   "id": "09445c3d-8d11-4441-840b-a07269752eeb",
   "metadata": {},
   "outputs": [
    {
     "data": {
      "text/plain": [
       "tensor([      4084101,     308915776,   27512614111, 2821109907456])"
      ]
     },
     "execution_count": 44,
     "metadata": {},
     "output_type": "execute_result"
    }
   ],
   "source": [
    "#exponents/power\n",
    "torch.pow(tensor_a,tensor_b)"
   ]
  },
  {
   "cell_type": "code",
   "execution_count": 46,
   "id": "fb8254e1-ec9c-484a-848a-ace385c1377b",
   "metadata": {},
   "outputs": [
    {
     "data": {
      "text/plain": [
       "tensor([31, 38, 45, 52])"
      ]
     },
     "execution_count": 46,
     "metadata": {},
     "output_type": "execute_result"
    }
   ],
   "source": [
    "#reassignment\n",
    "# tensor_a = tensor_a+tensor_b\n",
    "tensor_a.add_(tensor_b)\n",
    "tensor_a"
   ]
  }
 ],
 "metadata": {
  "kernelspec": {
   "display_name": "Python 3 (ipykernel)",
   "language": "python",
   "name": "python3"
  },
  "language_info": {
   "codemirror_mode": {
    "name": "ipython",
    "version": 3
   },
   "file_extension": ".py",
   "mimetype": "text/x-python",
   "name": "python",
   "nbconvert_exporter": "python",
   "pygments_lexer": "ipython3",
   "version": "3.10.14"
  }
 },
 "nbformat": 4,
 "nbformat_minor": 5
}
